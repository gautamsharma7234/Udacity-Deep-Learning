{
 "cells": [
  {
   "cell_type": "markdown",
   "metadata": {},
   "source": [
    "# Assignment 3 - Problem 4\n",
    "## DNN with 2 Hidden Layers and input_dim*2 Units"
   ]
  },
  {
   "cell_type": "code",
   "execution_count": 1,
   "metadata": {
    "collapsed": true
   },
   "outputs": [],
   "source": [
    "# These are all the modules we'll be using later. Make sure you can import them\n",
    "# before proceeding further.\n",
    "from __future__ import print_function\n",
    "import numpy as np\n",
    "import tensorflow as tf\n",
    "import matplotlib as plt\n",
    "from six.moves import cPickle as pickle"
   ]
  },
  {
   "cell_type": "markdown",
   "metadata": {},
   "source": [
    "### Load Dataset"
   ]
  },
  {
   "cell_type": "code",
   "execution_count": 10,
   "metadata": {
    "collapsed": false
   },
   "outputs": [
    {
     "name": "stdout",
     "output_type": "stream",
     "text": [
      "Training set (200000, 28, 28) (200000,)\n",
      "Validation set (10000, 28, 28) (10000,)\n",
      "Test set (10000, 28, 28) (10000,)\n"
     ]
    }
   ],
   "source": [
    "pickle_file = 'notMNIST.pickle'\n",
    "\n",
    "with open(pickle_file, 'rb') as f:\n",
    "  save = pickle.load(f)\n",
    "  train_dataset = save['train_dataset']\n",
    "  train_labels = save['train_labels']\n",
    "  valid_dataset = save['valid_dataset']\n",
    "  valid_labels = save['valid_labels']\n",
    "  test_dataset = save['test_dataset']\n",
    "  test_labels = save['test_labels']\n",
    "  del save  # hint to help gc free up memory\n",
    "  print('Training set', train_dataset.shape, train_labels.shape)\n",
    "  print('Validation set', valid_dataset.shape, valid_labels.shape)\n",
    "  print('Test set', test_dataset.shape, test_labels.shape)"
   ]
  },
  {
   "cell_type": "code",
   "execution_count": 11,
   "metadata": {
    "collapsed": true
   },
   "outputs": [],
   "source": [
    "def accuracy(predictions, labels):\n",
    "  return (100.0 * np.sum(np.argmax(predictions, 1) == np.argmax(labels, 1))\n",
    "          / predictions.shape[0])"
   ]
  },
  {
   "cell_type": "markdown",
   "metadata": {},
   "source": [
    "### Pre-process dataset for DNN"
   ]
  },
  {
   "cell_type": "code",
   "execution_count": 12,
   "metadata": {
    "collapsed": false
   },
   "outputs": [
    {
     "name": "stdout",
     "output_type": "stream",
     "text": [
      "Training set (200000, 784) (200000, 10)\n",
      "Validation set (10000, 784) (10000, 10)\n",
      "Test set (10000, 784) (10000, 10)\n"
     ]
    }
   ],
   "source": [
    "image_size = 28\n",
    "num_labels = 10\n",
    "\n",
    "def reformat(dataset, labels):\n",
    "  dataset = dataset.reshape((-1, image_size * image_size)).astype(np.float32)\n",
    "  # Map 2 to [0.0, 1.0, 0.0 ...], 3 to [0.0, 0.0, 1.0 ...]\n",
    "  labels = (np.arange(num_labels) == labels[:,None]).astype(np.float32)\n",
    "  return dataset, labels\n",
    "train_dataset, train_labels = reformat(train_dataset, train_labels)\n",
    "valid_dataset, valid_labels = reformat(valid_dataset, valid_labels)\n",
    "test_dataset, test_labels = reformat(test_dataset, test_labels)\n",
    "print('Training set', train_dataset.shape, train_labels.shape)\n",
    "print('Validation set', valid_dataset.shape, valid_labels.shape)\n",
    "print('Test set', test_dataset.shape, test_labels.shape)"
   ]
  },
  {
   "cell_type": "markdown",
   "metadata": {},
   "source": [
    "# Make Model Using:\n",
    "## 1 - L2 - Regularization\n",
    "## 2 - Dropout"
   ]
  },
  {
   "cell_type": "markdown",
   "metadata": {},
   "source": [
    "## 1 - L2 Regularization\n",
    "### Hyper - Parameter Tuning\n",
    "#### 1 - Initial Learning Rate - By testing different learning rates, I got 0.05 as the best (Skipped since done)"
   ]
  },
  {
   "cell_type": "markdown",
   "metadata": {},
   "source": [
    "#### 2 - Learning Rate Decay \n",
    "#### 3 - Momentum\n",
    "\n",
    "##### All of the above hyper-parameter tuning is handled by Adagrad\n",
    "\n",
    "#### 4 - Tune Batch Size (Skipped since done)\n",
    "#### 5 - Weight Initialization (Skipped since done)"
   ]
  },
  {
   "cell_type": "code",
   "execution_count": 51,
   "metadata": {
    "collapsed": false
   },
   "outputs": [],
   "source": [
    "batch_size = 128\n",
    "H = image_size*image_size * 2 # No. of hidden units = Flattened Dimension of input * 2\n",
    "\n",
    "from math import sqrt\n",
    "\n",
    "graph = tf.Graph()\n",
    "with graph.as_default():\n",
    "    \n",
    "    # Input data. For the training data, we use a placeholder that will be fed\n",
    "    # at run time with a training minibatch.\n",
    "    # Training set\n",
    "    tf_train_dataset = tf.placeholder(tf.float32,\n",
    "                                    shape=(batch_size, image_size * image_size))\n",
    "    tf_train_labels = tf.placeholder(tf.float32, shape=(batch_size, num_labels))\n",
    "    # Validation set\n",
    "    tf_valid_dataset = tf.constant(valid_dataset)\n",
    "    tf_valid_labels = tf.constant(valid_labels)\n",
    "    # Test set\n",
    "    tf_test_dataset = tf.constant(test_dataset)\n",
    "    # Regularization parameter - beta \n",
    "    beta = tf.placeholder(tf.float32)\n",
    "    # Learning rate - alpha\n",
    "    learning_rate = tf.placeholder(tf.float32)\n",
    "    # Momentum initialization\n",
    "    momentum = 0\n",
    "    \n",
    "    # Variables. (used stddev=sqrt(2/(length_of_flattened_matrix) --> This avoids diverges of weights \n",
    "    #                                                                  which doesn't cause NaN values \n",
    "    #                                                                   to occure in ReLU vectors)) \n",
    "    weights1 = tf.Variable(tf.truncated_normal([image_size*image_size, H], \n",
    "                                             stddev=sqrt(3.0/(image_size*image_size + H))))\n",
    "    biases1 = tf.Variable(tf.zeros([H]))\n",
    "    weights2 = tf.Variable(tf.truncated_normal([H, H],\n",
    "                                            stddev=sqrt(3.0/(H + H))))\n",
    "    biases2 = tf.Variable(tf.zeros([H]))\n",
    "    weights3 = tf.Variable(tf.truncated_normal([H, num_labels],\n",
    "                                            stddev=sqrt(3.0/(H + num_labels))))\n",
    "    biases3 = tf.Variable(tf.zeros([num_labels]))\n",
    "\n",
    "    # Regularization term  \n",
    "    regularizer = tf.nn.l2_loss(weights1) +  tf.nn.l2_loss(weights2) + tf.nn.l2_loss(weights3)\n",
    "\n",
    "    # Training computation.\n",
    "    train_hidden1 = tf.nn.relu(tf.matmul(tf_train_dataset, weights1) + biases1)\n",
    "    train_hidden2 = tf.nn.relu(tf.matmul(train_hidden1, weights2) + biases2)\n",
    "    train_logits = tf.matmul(train_hidden2, weights3) + biases3\n",
    "\n",
    "    # Training loss.\n",
    "    train_loss = tf.nn.softmax_cross_entropy_with_logits(train_logits, tf_train_labels)\n",
    "    momentum = 0.9*momentum + (train_loss + beta*regularizer)\n",
    "    train_l2_loss = tf.reduce_mean(momentum)\n",
    "\n",
    "    # Validation computation.\n",
    "    valid_hidden1 = tf.nn.relu(tf.matmul(tf_valid_dataset, weights1) + biases1)\n",
    "    valid_hidden2 = tf.nn.relu(tf.matmul(valid_hidden1, weights2) + biases2)\n",
    "    valid_logits = tf.matmul(valid_hidden2, weights3) + biases3\n",
    "\n",
    "    # Validation loss.\n",
    "    valid_loss = tf.nn.softmax_cross_entropy_with_logits(valid_logits, tf_valid_labels)\n",
    "    valid_l2_loss = tf.reduce_mean(valid_loss + beta*regularizer) \n",
    "\n",
    "    # Test computation.\n",
    "    test_hidden1 = tf.nn.relu(tf.matmul(tf_test_dataset, weights1) + biases1)\n",
    "    test_hidden2 = tf.nn.relu(tf.matmul(test_hidden1, weights2) + biases2)\n",
    "    test_logits = tf.matmul(test_hidden2, weights3) + biases3\n",
    "\n",
    "    # Optimizer - Exponential Learning Rate Decay.\n",
    "    global_step = tf.Variable(0)  # count the number of steps taken.\n",
    "    learning_rate = tf.train.exponential_decay(0.5, \n",
    "                                               global_step, \n",
    "                                               decay_steps=50, # Use higher decay_steps like around 70000 to get higher accuracy\n",
    "                                               decay_rate=0.001) # .001\n",
    "    optimizer = tf.train.GradientDescentOptimizer(learning_rate).minimize(train_l2_loss, global_step=global_step)\n",
    "    \n",
    "    # Predictions for the training, validation, and test data.\n",
    "    train_prediction = tf.nn.softmax(train_logits)\n",
    "    valid_prediction = tf.nn.softmax(valid_logits)\n",
    "    test_prediction = tf.nn.softmax(test_logits)"
   ]
  },
  {
   "cell_type": "markdown",
   "metadata": {},
   "source": [
    "### Train model with L2 Regularization"
   ]
  },
  {
   "cell_type": "code",
   "execution_count": null,
   "metadata": {
    "collapsed": true
   },
   "outputs": [],
   "source": [
    "num_steps = 5501\n",
    "\n",
    "with tf.Session(graph=graph) as session:\n",
    "    tf.initialize_all_variables().run()\n",
    "    print(\"Initialized\")\n",
    "    for step in range(num_steps):\n",
    "        # Pick an offset within the training data, which has been randomized.\n",
    "        # Note: we could use better randomization across epochs.\n",
    "        offset = (step * batch_size) % (train_labels.shape[0] - batch_size)\n",
    "        # Generate a minibatch.\n",
    "        batch_data = train_dataset[offset:(offset + batch_size), :]\n",
    "        batch_labels = train_labels[offset:(offset + batch_size), :]\n",
    "        # Prepare a dictionary telling the session where to feed the minibatch.\n",
    "        # The key of the dictionary is the placeholder node of the graph to be fed,\n",
    "        # and the value is the numpy array to feed to it.\n",
    "        feed_dict = {tf_train_dataset : batch_data, tf_train_labels : batch_labels, beta : 0.001, learning_rate : 0.5}\n",
    "        _, l, predictions = session.run(\n",
    "            [optimizer, train_l2_loss, train_prediction], feed_dict=feed_dict)\n",
    "        if (step % 500 == 0):\n",
    "            print(\"Minibatch loss at step %d: %f\" % (step, l))\n",
    "            print(\"Minibatch accuracy: %.1f%%\" % accuracy(predictions, batch_labels))\n",
    "            print(\"Validation accuracy: %.1f%%\" % accuracy(\n",
    "                valid_prediction.eval(), valid_labels))\n",
    "            print(\"Test accuracy: %.1f%%\\n\\n\" % accuracy(test_prediction.eval(), test_labels))\n",
    "  "
   ]
  },
  {
   "cell_type": "markdown",
   "metadata": {},
   "source": [
    "# The above 2 Hidden layered DNN gave 95 % accuracy."
   ]
  }
 ],
 "metadata": {
  "anaconda-cloud": {},
  "kernelspec": {
   "display_name": "Python [Root]",
   "language": "python",
   "name": "Python [Root]"
  },
  "language_info": {
   "codemirror_mode": {
    "name": "ipython",
    "version": 2
   },
   "file_extension": ".py",
   "mimetype": "text/x-python",
   "name": "python",
   "nbconvert_exporter": "python",
   "pygments_lexer": "ipython2",
   "version": "2.7.12"
  }
 },
 "nbformat": 4,
 "nbformat_minor": 0
}
