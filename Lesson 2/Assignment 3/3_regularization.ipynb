{
 "cells": [
  {
   "cell_type": "markdown",
   "metadata": {},
   "source": [
    "# Deep Learning\n",
    "## Assignment 3\n",
    "Previously in 2_fullyconnected.ipynb, you trained a logistic regression and a neural network model.\n",
    "\n",
    "The goal of this assignment is to explore regularization techniques."
   ]
  },
  {
   "cell_type": "code",
   "execution_count": 6,
   "metadata": {
    "collapsed": true
   },
   "outputs": [],
   "source": [
    "# These are all the modules we'll be using later. Make sure you can import them\n",
    "# before proceeding further.\n",
    "from __future__ import print_function\n",
    "import numpy as np\n",
    "import tensorflow as tf\n",
    "from six.moves import cPickle as pickle"
   ]
  },
  {
   "cell_type": "markdown",
   "metadata": {},
   "source": [
    "First reload the data we generated in notmist.ipynb."
   ]
  },
  {
   "cell_type": "code",
   "execution_count": 7,
   "metadata": {
    "collapsed": false
   },
   "outputs": [
    {
     "name": "stdout",
     "output_type": "stream",
     "text": [
      "Training set (187217, 28, 28) (187217,)\n",
      "Validation set (8933, 28, 28) (8933,)\n",
      "Test set (8676, 28, 28) (8676,)\n"
     ]
    }
   ],
   "source": [
    "pickle_file = 'notMNIST_sanitized.pickle'\n",
    "\n",
    "with open(pickle_file, 'rb') as f:\n",
    "  save = pickle.load(f)\n",
    "  train_dataset = save['sanitized_train_dataset']\n",
    "  train_labels = save['sanitized_train_labels']\n",
    "  valid_dataset = save['sanitized_valid_dataset']\n",
    "  valid_labels = save['sanitized_valid_labels']\n",
    "  test_dataset = save['sanitized_test_dataset']\n",
    "  test_labels = save['sanitized_test_labels']\n",
    "  del save  # hint to help gc free up memory\n",
    "  print('Training set', train_dataset.shape, train_labels.shape)\n",
    "  print('Validation set', valid_dataset.shape, valid_labels.shape)\n",
    "  print('Test set', test_dataset.shape, test_labels.shape)"
   ]
  },
  {
   "cell_type": "markdown",
   "metadata": {},
   "source": [
    "Reformat into a shape that's more adapted to the models we're going to train:\n",
    "* data as a flat matrix,\n",
    "* labels as float 1-hot encodings."
   ]
  },
  {
   "cell_type": "code",
   "execution_count": 8,
   "metadata": {
    "collapsed": false
   },
   "outputs": [
    {
     "name": "stdout",
     "output_type": "stream",
     "text": [
      "Training set (187217, 784) (187217, 10)\n",
      "Validation set (8933, 784) (8933, 10)\n",
      "Test set (8676, 784) (8676, 10)\n"
     ]
    }
   ],
   "source": [
    "image_size = 28\n",
    "num_labels = 10\n",
    "\n",
    "def reformat(dataset, labels):\n",
    "  dataset = dataset.reshape((-1, image_size * image_size)).astype(np.float32)\n",
    "  # Map 2 to [0.0, 1.0, 0.0 ...], 3 to [0.0, 0.0, 1.0 ...]\n",
    "  labels = (np.arange(num_labels) == labels[:,None]).astype(np.float32)\n",
    "  return dataset, labels\n",
    "train_dataset, train_labels = reformat(train_dataset, train_labels)\n",
    "valid_dataset, valid_labels = reformat(valid_dataset, valid_labels)\n",
    "test_dataset, test_labels = reformat(test_dataset, test_labels)\n",
    "print('Training set', train_dataset.shape, train_labels.shape)\n",
    "print('Validation set', valid_dataset.shape, valid_labels.shape)\n",
    "print('Test set', test_dataset.shape, test_labels.shape)"
   ]
  },
  {
   "cell_type": "code",
   "execution_count": 9,
   "metadata": {
    "collapsed": true
   },
   "outputs": [],
   "source": [
    "def accuracy(predictions, labels):\n",
    "  return (100.0 * np.sum(np.argmax(predictions, 1) == np.argmax(labels, 1))\n",
    "          / predictions.shape[0])"
   ]
  },
  {
   "cell_type": "markdown",
   "metadata": {},
   "source": [
    "## Problem 1\n",
    "Introduce and tune L2 regularization for both logistic and neural network models. Remember that L2 amounts to adding a penalty on the norm of the weights to the loss. In TensorFlow, you can compute the L2 loss for a tensor t using nn.l2_loss(t). The right amount of regularization should improve your validation / test accuracy."
   ]
  },
  {
   "cell_type": "markdown",
   "metadata": {
    "collapsed": false
   },
   "source": [
    "## Problem 1 (I have made only Neural Net)\n",
    "### Step 1 - Find regularization parameter using validation set\n",
    "Use the value of regularization parameter which gives least loss (I have used error instead of loss) i.e which gives least error (100-accuracy)"
   ]
  },
  {
   "cell_type": "code",
   "execution_count": 33,
   "metadata": {
    "collapsed": false
   },
   "outputs": [],
   "source": [
    "batch_size = 128\n",
    "H = 1024 # No. of hidden units\n",
    "\n",
    "graph = tf.Graph()\n",
    "with graph.as_default():\n",
    "\n",
    "  # Input data. For the training data, we use a placeholder that will be fed\n",
    "  # at run time with a training minibatch.\n",
    "  # Training set\n",
    "  tf_train_dataset = tf.placeholder(tf.float32,\n",
    "                                    shape=(batch_size, image_size * image_size))\n",
    "  tf_train_labels = tf.placeholder(tf.float32, shape=(batch_size, num_labels))\n",
    "  # Validation set\n",
    "  tf_valid_dataset = tf.constant(valid_dataset)\n",
    "  tf_valid_labels = tf.constant(valid_labels)\n",
    "  # Test set\n",
    "  tf_test_dataset = tf.constant(test_dataset)\n",
    "  # Regularization parameter - beta \n",
    "  tf_beta = tf.placeholder(tf.float32)\n",
    "  \n",
    "  # Variables.\n",
    "  weights1 = tf.Variable(\n",
    "    tf.truncated_normal([image_size * image_size, H]))\n",
    "  biases1 = tf.Variable(tf.zeros([H]))\n",
    "  weights2 = tf.Variable(\n",
    "    tf.truncated_normal([H, num_labels]))\n",
    "  biases2 = tf.Variable(tf.zeros([num_labels]))\n",
    "  \n",
    "  # Training computation.\n",
    "  train_hidden1 = tf.nn.relu(tf.matmul(tf_train_dataset, weights1) + biases1)\n",
    "  train_logits = tf.matmul(train_hidden1, weights2) + biases2\n",
    "  # Regularization term  \n",
    "  regularizer = tf.nn.l2_loss(weights1) + tf.nn.l2_loss(biases1) + tf.nn.l2_loss(weights2) + tf.nn.l2_loss(biases2)\n",
    "  # Training loss\n",
    "  train_loss = tf.nn.softmax_cross_entropy_with_logits(train_logits, tf_train_labels)\n",
    "  train_l2_loss = tf.reduce_mean(train_loss + tf_beta*regularizer)\n",
    "    \n",
    "  # Validation computation.\n",
    "  valid_hidden1 = tf.nn.relu(tf.matmul(tf_valid_dataset, weights1) + biases1)\n",
    "  valid_logits = tf.matmul(valid_hidden1, weights2) + biases2\n",
    "  # Validation loss\n",
    "  valid_loss = tf.nn.softmax_cross_entropy_with_logits(valid_logits, tf_valid_labels)\n",
    "  valid_l2_loss = tf.reduce_mean(valid_loss + tf_beta*regularizer)\n",
    "  \n",
    "  # Optimizer.\n",
    "  optimizer = tf.train.GradientDescentOptimizer(0.5).minimize(train_l2_loss)\n",
    "  \n",
    "  # Predictions for the training, validation, and test data.\n",
    "  train_prediction = tf.nn.softmax(train_logits)\n",
    "  valid_prediction = tf.nn.softmax(valid_logits)\n",
    "  test_prediction = tf.nn.softmax(tf.matmul(\n",
    "                                   tf.nn.relu(tf.matmul(tf_test_dataset, weights1) + biases1), weights2) + biases2)"
   ]
  },
  {
   "cell_type": "code",
   "execution_count": 123,
   "metadata": {
    "collapsed": false
   },
   "outputs": [
    {
     "name": "stdout",
     "output_type": "stream",
     "text": [
      "Beta --------------------> 0.0001\n",
      "Initialized\n",
      "Minibatch loss of training set at step 0: 376.099091\n",
      "Minibatch accuracy: 14.1%\n",
      "Validation accuracy: 39.0%\n",
      "\n",
      "Minibatch loss of training set at step 500: 47.652878\n",
      "Minibatch accuracy: 78.1%\n",
      "Validation accuracy: 77.9%\n",
      "\n",
      "Minibatch loss of training set at step 1000: 35.493580\n",
      "Minibatch accuracy: 81.2%\n",
      "Validation accuracy: 80.0%\n",
      "\n",
      "Minibatch loss of training set at step 1500: 28.988743\n",
      "Minibatch accuracy: 86.7%\n",
      "Validation accuracy: 80.2%\n",
      "\n",
      "Minibatch loss of training set at step 2000: 29.919542\n",
      "Minibatch accuracy: 82.0%\n",
      "Validation accuracy: 79.5%\n",
      "\n",
      "Minibatch loss of training set at step 2500: 25.305779\n",
      "Minibatch accuracy: 84.4%\n",
      "Validation accuracy: 78.9%\n",
      "\n",
      "Minibatch loss of training set at step 3000: 27.613459\n",
      "Minibatch accuracy: 80.5%\n",
      "Validation accuracy: 81.3%\n",
      "\n",
      "Minibatch error for validation set: 18.7%\n",
      "Test accuracy: 88.3%\n",
      "\n",
      "\n",
      "Beta --------------------> 0.0003\n",
      "Initialized\n",
      "Minibatch loss of training set at step 0: 411.444275\n",
      "Minibatch accuracy: 9.4%\n",
      "Validation accuracy: 31.0%\n",
      "\n",
      "Minibatch loss of training set at step 500: 97.192520\n",
      "Minibatch accuracy: 77.3%\n",
      "Validation accuracy: 77.1%\n",
      "\n",
      "Minibatch loss of training set at step 1000: 71.807076\n",
      "Minibatch accuracy: 84.4%\n",
      "Validation accuracy: 80.1%\n",
      "\n",
      "Minibatch loss of training set at step 1500: 60.980240\n",
      "Minibatch accuracy: 83.6%\n",
      "Validation accuracy: 80.8%\n",
      "\n",
      "Minibatch loss of training set at step 2000: 54.091309\n",
      "Minibatch accuracy: 83.6%\n",
      "Validation accuracy: 80.8%\n",
      "\n",
      "Minibatch loss of training set at step 2500: 44.839855\n",
      "Minibatch accuracy: 82.8%\n",
      "Validation accuracy: 80.6%\n",
      "\n",
      "Minibatch loss of training set at step 3000: 37.839039\n",
      "Minibatch accuracy: 84.4%\n",
      "Validation accuracy: 82.2%\n",
      "\n",
      "Minibatch error for validation set: 17.8%\n",
      "Test accuracy: 89.4%\n",
      "\n",
      "\n",
      "Beta --------------------> 0.001\n",
      "Initialized\n",
      "Minibatch loss of training set at step 0: 578.686829\n",
      "Minibatch accuracy: 9.4%\n",
      "Validation accuracy: 43.6%\n",
      "\n",
      "Minibatch loss of training set at step 500: 203.911636\n",
      "Minibatch accuracy: 78.9%\n",
      "Validation accuracy: 78.0%\n",
      "\n",
      "Minibatch loss of training set at step 1000: 115.973656\n",
      "Minibatch accuracy: 82.8%\n",
      "Validation accuracy: 80.9%\n",
      "\n",
      "Minibatch loss of training set at step 1500: 69.213615\n",
      "Minibatch accuracy: 86.7%\n",
      "Validation accuracy: 82.4%\n",
      "\n",
      "Minibatch loss of training set at step 2000: 41.907028\n",
      "Minibatch accuracy: 87.5%\n",
      "Validation accuracy: 82.9%\n",
      "\n",
      "Minibatch loss of training set at step 2500: 25.366312\n",
      "Minibatch accuracy: 86.7%\n",
      "Validation accuracy: 84.2%\n",
      "\n",
      "Minibatch loss of training set at step 3000: 15.557467\n",
      "Minibatch accuracy: 84.4%\n",
      "Validation accuracy: 85.7%\n",
      "\n",
      "Minibatch error for validation set: 14.3%\n",
      "Test accuracy: 92.2%\n",
      "\n",
      "\n",
      "Beta --------------------> 0.003\n",
      "Initialized\n",
      "Minibatch loss of training set at step 0: 1296.437988\n",
      "Minibatch accuracy: 9.4%\n",
      "Validation accuracy: 35.3%\n",
      "\n",
      "Minibatch loss of training set at step 500: 212.266922\n",
      "Minibatch accuracy: 81.2%\n",
      "Validation accuracy: 75.9%\n",
      "\n",
      "Minibatch loss of training set at step 1000: 46.288559\n",
      "Minibatch accuracy: 88.3%\n",
      "Validation accuracy: 82.8%\n",
      "\n",
      "Minibatch loss of training set at step 1500: 10.627954\n",
      "Minibatch accuracy: 91.4%\n",
      "Validation accuracy: 85.1%\n",
      "\n",
      "Minibatch loss of training set at step 2000: 2.804618\n",
      "Minibatch accuracy: 87.5%\n",
      "Validation accuracy: 85.4%\n",
      "\n",
      "Minibatch loss of training set at step 2500: 1.090840\n",
      "Minibatch accuracy: 86.7%\n",
      "Validation accuracy: 84.4%\n",
      "\n",
      "Minibatch loss of training set at step 3000: 0.700102\n",
      "Minibatch accuracy: 88.3%\n",
      "Validation accuracy: 85.5%\n",
      "\n",
      "Minibatch error for validation set: 14.5%\n",
      "Test accuracy: 92.2%\n",
      "\n",
      "\n",
      "Beta --------------------> 0.01\n",
      "Initialized\n",
      "Minibatch loss of training set at step 0: 3544.168945\n",
      "Minibatch accuracy: 15.6%\n",
      "Validation accuracy: 34.2%\n",
      "\n",
      "Minibatch loss of training set at step 500: 21.312387\n",
      "Minibatch accuracy: 82.0%\n",
      "Validation accuracy: 82.4%\n",
      "\n",
      "Minibatch loss of training set at step 1000: 0.791670\n",
      "Minibatch accuracy: 88.3%\n",
      "Validation accuracy: 82.6%\n",
      "\n",
      "Minibatch loss of training set at step 1500: 0.649267\n",
      "Minibatch accuracy: 88.3%\n",
      "Validation accuracy: 82.1%\n",
      "\n",
      "Minibatch loss of training set at step 2000: 0.679151\n",
      "Minibatch accuracy: 86.7%\n",
      "Validation accuracy: 82.6%\n",
      "\n",
      "Minibatch loss of training set at step 2500: 0.790650\n",
      "Minibatch accuracy: 82.0%\n",
      "Validation accuracy: 81.5%\n",
      "\n",
      "Minibatch loss of training set at step 3000: 0.706891\n",
      "Minibatch accuracy: 85.9%\n",
      "Validation accuracy: 83.0%\n",
      "\n",
      "Minibatch error for validation set: 17.0%\n",
      "Test accuracy: 89.5%\n",
      "\n",
      "\n",
      "Beta --------------------> 0.03\n",
      "Initialized\n",
      "Minibatch loss of training set at step 0: 9826.352539\n",
      "Minibatch accuracy: 8.6%\n",
      "Validation accuracy: 32.3%\n",
      "\n",
      "Minibatch loss of training set at step 500: 0.989230\n",
      "Minibatch accuracy: 80.5%\n",
      "Validation accuracy: 79.5%\n",
      "\n",
      "Minibatch loss of training set at step 1000: 0.861227\n",
      "Minibatch accuracy: 85.9%\n",
      "Validation accuracy: 80.0%\n",
      "\n",
      "Minibatch loss of training set at step 1500: 0.852666\n",
      "Minibatch accuracy: 87.5%\n",
      "Validation accuracy: 80.5%\n",
      "\n",
      "Minibatch loss of training set at step 2000: 0.893428\n",
      "Minibatch accuracy: 83.6%\n",
      "Validation accuracy: 80.6%\n",
      "\n",
      "Minibatch loss of training set at step 2500: 1.004369\n",
      "Minibatch accuracy: 81.2%\n",
      "Validation accuracy: 79.3%\n",
      "\n",
      "Minibatch loss of training set at step 3000: 0.893435\n",
      "Minibatch accuracy: 85.9%\n",
      "Validation accuracy: 80.6%\n",
      "\n",
      "Minibatch error for validation set: 19.4%\n",
      "Test accuracy: 87.7%\n",
      "\n",
      "\n"
     ]
    }
   ],
   "source": [
    "num_steps = 3001 \n",
    "\n",
    "beta_values = [0.0001, 0.0003, 0.001, 0.003, 0.01, 0.03]\n",
    "train_error = np.array([0.0]*len(beta_values))\n",
    "valid_error = np.array([0.0]*len(beta_values))\n",
    "\n",
    "for i, beta in enumerate(beta_values):\n",
    "    print('Beta -------------------->', beta)\n",
    "    with tf.Session(graph=graph) as session:\n",
    "        tf.initialize_all_variables().run()\n",
    "        print(\"Initialized\")\n",
    "        for step in range(num_steps):\n",
    "            # Pick an offset within the training data, which has been randomized.\n",
    "            # Note: we could use better randomization across epochs.\n",
    "            offset = (step * batch_size) % (train_labels.shape[0] - batch_size)\n",
    "            # Generate a minibatch.\n",
    "            batch_data = train_dataset[offset:(offset + batch_size), :]\n",
    "            batch_labels = train_labels[offset:(offset + batch_size), :]\n",
    "            # Prepare a dictionary telling the session where to feed the minibatch.\n",
    "            # The key of the dictionary is the placeholder node of the graph to be fed,\n",
    "            # and the value is the numpy array to feed to it.\n",
    "            feed_dict = {tf_train_dataset : batch_data, tf_train_labels : batch_labels, tf_beta : beta}\n",
    "            _, l, predictions = session.run(\n",
    "              [optimizer, loss, train_prediction], feed_dict=feed_dict)\n",
    "            if (step % 500 == 0):\n",
    "                print(\"Minibatch loss of training set at step %d: %f\" % (step, l))\n",
    "                print(\"Minibatch accuracy: %.1f%%\" % accuracy(predictions, batch_labels))\n",
    "                print(\"Validation accuracy: %.1f%%\\n\" % accuracy(\n",
    "                valid_prediction.eval(), valid_labels))\n",
    "                # Final step for SGD optimizer (minibatch)\n",
    "                if step == num_steps-1:\n",
    "                    train_error[i] = 100 - accuracy(predictions, batch_labels)\n",
    "                    valid_error[i] = 100 - accuracy(valid_prediction.eval(), valid_labels)\n",
    "        print(\"Minibatch error for validation set: %.1f%%\" % (100 - accuracy(valid_prediction.eval(), valid_labels)))"
   ]
  },
  {
   "cell_type": "markdown",
   "metadata": {},
   "source": [
    "Plot curves to visualize effect of learning rate on error"
   ]
  },
  {
   "cell_type": "code",
   "execution_count": 3,
   "metadata": {
    "collapsed": false
   },
   "outputs": [
    {
     "data": {
      "image/png": "[encoded data removed]",
      "text/plain": [
       "<matplotlib.figure.Figure at 0x10a59a5d0>"
      ]
     },
     "metadata": {},
     "output_type": "display_data"
    }
   ],
   "source": [
    "%matplotlib inline\n",
    "import matplotlib.pyplot as plt\n",
    "plt.plot(beta_values, train_error, 'b', label='Training error')\n",
    "plt.plot(beta_values, valid_error, 'r', label='Cross-validation error')\n",
    "plt.xlabel('Regularization Parameter (Beta)')\n",
    "plt.ylabel('Error')\n",
    "plt.legend()\n",
    "plt.show()\n",
    "\n",
    "# Regularization parameter - beta value of 0.001 gives \n",
    "# least error which is evident in the graph\n",
    "beta = 0.001"
   ]
  },
  {
   "cell_type": "markdown",
   "metadata": {},
   "source": [
    "Train the model and use l2 regularization using beta=0.001"
   ]
  },
  {
   "cell_type": "code",
   "execution_count": 14,
   "metadata": {
    "collapsed": false,
    "scrolled": true
   },
   "outputs": [
    {
     "name": "stdout",
     "output_type": "stream",
     "text": [
      "Initialized\n",
      "Minibatch loss of training set at step 0: 693.505371\n",
      "Minibatch accuracy: 6.2%\n",
      "Validation accuracy: 34.4%\n",
      "\n",
      "Minibatch loss of training set at step 500: 202.500427\n",
      "Minibatch accuracy: 75.8%\n",
      "Validation accuracy: 77.9%\n",
      "\n",
      "Minibatch loss of training set at step 1000: 114.688881\n",
      "Minibatch accuracy: 85.9%\n",
      "Validation accuracy: 80.9%\n",
      "\n",
      "Minibatch loss of training set at step 1500: 68.719307\n",
      "Minibatch accuracy: 85.2%\n",
      "Validation accuracy: 81.9%\n",
      "\n",
      "Minibatch loss of training set at step 2000: 41.761688\n",
      "Minibatch accuracy: 83.6%\n",
      "Validation accuracy: 82.0%\n",
      "\n",
      "Minibatch loss of training set at step 2500: 25.414898\n",
      "Minibatch accuracy: 83.6%\n",
      "Validation accuracy: 83.7%\n",
      "\n",
      "Minibatch loss of training set at step 3000: 15.433825\n",
      "Minibatch accuracy: 87.5%\n",
      "Validation accuracy: 85.3%\n",
      "\n",
      "Test accuracy: 92.1%\n"
     ]
    }
   ],
   "source": [
    "num_steps = 3001\n",
    "\n",
    "with tf.Session(graph=graph) as session:\n",
    "    tf.initialize_all_variables().run()\n",
    "    print(\"Initialized\")\n",
    "    for step in range(num_steps):\n",
    "        # Pick an offset within the training data, which has been randomized.\n",
    "        # Note: we could use better randomization across epochs.\n",
    "        offset = (step * batch_size) % (train_labels.shape[0] - batch_size)\n",
    "        # Generate a minibatch.\n",
    "        batch_data = train_dataset[offset:(offset + batch_size), :]\n",
    "        batch_labels = train_labels[offset:(offset + batch_size), :]\n",
    "        # Prepare a dictionary telling the session where to feed the minibatch.\n",
    "    # The key of the dictionary is the placeholder node of the graph to be fed,\n",
    "        # and the value is the numpy array to feed to it.\n",
    "        feed_dict = {tf_train_dataset : batch_data, tf_train_labels : batch_labels, tf_beta : beta}\n",
    "        _, l, predictions = session.run(\n",
    "             [optimizer, train_l2_loss, train_prediction], feed_dict=feed_dict)\n",
    "        if (step % 500 == 0):\n",
    "            print(\"Minibatch loss of training set at step %d: %f\" % (step, l))\n",
    "            print(\"Minibatch accuracy: %.1f%%\" % accuracy(predictions, batch_labels))\n",
    "            print(\"Validation accuracy: %.1f%%\\n\" % accuracy(valid_prediction.eval(), valid_labels))\n",
    "    print(\"Test accuracy: %.1f%%\" % accuracy(test_prediction.eval(), test_labels))"
   ]
  },
  {
   "cell_type": "markdown",
   "metadata": {},
   "source": [
    "## Problem 1\n",
    "### Step skipped: Plot learning curves to obeserve trade-off between bias and variance"
   ]
  },
  {
   "cell_type": "markdown",
   "metadata": {},
   "source": [
    "## Problem 2\n",
    "Let's demonstrate an extreme case of overfitting. Restrict your training data to just a few batches. What happens?"
   ]
  },
  {
   "cell_type": "code",
   "execution_count": 34,
   "metadata": {
    "collapsed": false
   },
   "outputs": [
    {
     "name": "stdout",
     "output_type": "stream",
     "text": [
      "Initialized\n",
      "Minibatch loss of training set at step 0: 655.321777\n",
      "Minibatch accuracy: 8.6%\n",
      "Validation accuracy: 37.0%\n",
      "\n",
      "Test accuracy: 47.8%\n"
     ]
    }
   ],
   "source": [
    "num_steps = 5 # Fewer batches\n",
    "\n",
    "with tf.Session(graph=graph) as session:\n",
    "    tf.initialize_all_variables().run()\n",
    "    print(\"Initialized\")\n",
    "    for step in range(num_steps):\n",
    "        # Pick an offset within the training data, which has been randomized.\n",
    "        # Note: we could use better randomization across epochs.\n",
    "        offset = (step * batch_size) % (train_labels.shape[0] - batch_size)\n",
    "        # Generate a minibatch.\n",
    "        batch_data = train_dataset[offset:(offset + batch_size), :]\n",
    "        batch_labels = train_labels[offset:(offset + batch_size), :]\n",
    "        # Prepare a dictionary telling the session where to feed the minibatch.\n",
    "    # The key of the dictionary is the placeholder node of the graph to be fed,\n",
    "        # and the value is the numpy array to feed to it.\n",
    "        feed_dict = {tf_train_dataset : batch_data, tf_train_labels : batch_labels, tf_beta : beta}\n",
    "        _, l, predictions = session.run(\n",
    "             [optimizer, train_l2_loss, train_prediction], feed_dict=feed_dict)\n",
    "        if (step % 20 == 0):\n",
    "            print(\"Minibatch loss of training set at step %d: %f\" % (step, l))\n",
    "            print(\"Minibatch accuracy: %.1f%%\" % accuracy(predictions, batch_labels))\n",
    "            print(\"Validation accuracy: %.1f%%\\n\" % accuracy(valid_prediction.eval(), valid_labels))\n",
    "    print(\"Test accuracy: %.1f%%\" % accuracy(test_prediction.eval(), test_labels))"
   ]
  },
  {
   "cell_type": "markdown",
   "metadata": {},
   "source": [
    "## Problem 3\n",
    "Introduce Dropout on the hidden layer of the neural network. Remember: Dropout should only be introduced during training, not evaluation, otherwise your evaluation results would be stochastic as well. TensorFlow provides nn.dropout() for that, but you have to make sure it's only inserted during training.\n",
    "What happens to our extreme overfitting case?"
   ]
  },
  {
   "cell_type": "code",
   "execution_count": 37,
   "metadata": {
    "collapsed": true
   },
   "outputs": [],
   "source": [
    "batch_size = 128\n",
    "H = 1024 # No. of hidden units\n",
    "\n",
    "graph = tf.Graph()\n",
    "with graph.as_default():\n",
    "\n",
    "  # Input data. For the training data, we use a placeholder that will be fed\n",
    "  # at run time with a training minibatch.\n",
    "  # Training set\n",
    "  tf_train_dataset = tf.placeholder(tf.float32,\n",
    "                                    shape=(batch_size, image_size * image_size))\n",
    "  tf_train_labels = tf.placeholder(tf.float32, shape=(batch_size, num_labels))\n",
    "  # Validation set\n",
    "  tf_valid_dataset = tf.constant(valid_dataset)\n",
    "  tf_valid_labels = tf.constant(valid_labels)\n",
    "  # Test set\n",
    "  tf_test_dataset = tf.constant(test_dataset)\n",
    "  # Regularization parameter - beta \n",
    "  tf_beta = tf.placeholder(tf.float32)\n",
    "  # Keeping probability while dropping out units\n",
    "  tf_dropout = 0.5\n",
    "  \n",
    "  # Variables.\n",
    "  weights1 = tf.Variable(\n",
    "    tf.truncated_normal([image_size * image_size, H]))\n",
    "  biases1 = tf.Variable(tf.zeros([H]))\n",
    "  weights2 = tf.Variable(\n",
    "    tf.truncated_normal([H, num_labels]))\n",
    "  biases2 = tf.Variable(tf.zeros([num_labels]))\n",
    "  \n",
    "  # Training computation.\n",
    "  train_hidden1 = tf.nn.relu(tf.matmul(tf_train_dataset, weights1) + biases1)\n",
    "  train_hidden1 = tf.nn.dropout(train_hidden1, tf_dropout)\n",
    "  train_logits = tf.matmul(train_hidden1, weights2) + biases2\n",
    "  # Regularization term  \n",
    "  regularizer = tf.nn.l2_loss(weights1) + tf.nn.l2_loss(biases1) + tf.nn.l2_loss(weights2) + tf.nn.l2_loss(biases2)\n",
    "  # Training loss\n",
    "  train_loss = tf.nn.softmax_cross_entropy_with_logits(train_logits, tf_train_labels)\n",
    "  train_l2_loss = tf.reduce_mean(train_loss + tf_beta*regularizer)\n",
    "    \n",
    "  # Validation computation.\n",
    "  valid_hidden1 = tf.nn.relu(tf.matmul(tf_valid_dataset, weights1) + biases1)\n",
    "  valid_hidden1 = tf.nn.dropout(valid_hidden1, tf_dropout)\n",
    "  valid_logits = tf.matmul(valid_hidden1, weights2) + biases2\n",
    "  # Validation loss\n",
    "  valid_loss = tf.nn.softmax_cross_entropy_with_logits(valid_logits, tf_valid_labels)\n",
    "  valid_l2_loss = tf.reduce_mean(valid_loss + tf_beta*regularizer)\n",
    "    \n",
    "  # Test computation.\n",
    "  test_hidden1 = tf.nn.relu(tf.matmul(tf_test_dataset, weights1) + biases1)\n",
    "  test_hidden1 = tf.nn.dropout(test_hidden1, tf_dropout)\n",
    "  test_logits = tf.matmul(test_hidden1, weights2) + biases2\n",
    "  \n",
    "  # Optimizer.\n",
    "  optimizer = tf.train.GradientDescentOptimizer(0.5).minimize(train_l2_loss)\n",
    "  \n",
    "  # Predictions for the training, validation, and test data.\n",
    "  train_prediction = tf.nn.softmax(train_logits)\n",
    "  valid_prediction = tf.nn.softmax(valid_logits)\n",
    "  test_prediction = tf.nn.softmax(test_logits)"
   ]
  },
  {
   "cell_type": "code",
   "execution_count": 38,
   "metadata": {
    "collapsed": false
   },
   "outputs": [
    {
     "name": "stdout",
     "output_type": "stream",
     "text": [
      "Initialized\n",
      "Minibatch loss of training set at step 0: 788.085266\n",
      "Minibatch accuracy: 10.2%\n",
      "Validation accuracy: 22.4%\n",
      "\n",
      "Test accuracy: 77.1%\n"
     ]
    }
   ],
   "source": [
    "num_steps = 10 # Fewer batches\n",
    "\n",
    "with tf.Session(graph=graph) as session:\n",
    "    tf.initialize_all_variables().run()\n",
    "    print(\"Initialized\")\n",
    "    for step in range(num_steps):\n",
    "        # Pick an offset within the training data, which has been randomized.\n",
    "        # Note: we could use better randomization across epochs.\n",
    "        offset = (step * batch_size) % (train_labels.shape[0] - batch_size)\n",
    "        # Generate a minibatch.\n",
    "        batch_data = train_dataset[offset:(offset + batch_size), :]\n",
    "        batch_labels = train_labels[offset:(offset + batch_size), :]\n",
    "        # Prepare a dictionary telling the session where to feed the minibatch.\n",
    "    # The key of the dictionary is the placeholder node of the graph to be fed,\n",
    "        # and the value is the numpy array to feed to it.\n",
    "        feed_dict = {tf_train_dataset : batch_data, tf_train_labels : batch_labels, tf_beta : beta}\n",
    "        _, l, predictions = session.run(\n",
    "             [optimizer, train_l2_loss, train_prediction], feed_dict=feed_dict)\n",
    "        if (step % 20 == 0):\n",
    "            print(\"Minibatch loss of training set at step %d: %f\" % (step, l))\n",
    "            print(\"Minibatch accuracy: %.1f%%\" % accuracy(predictions, batch_labels))\n",
    "            print(\"Validation accuracy: %.1f%%\\n\" % accuracy(valid_prediction.eval(), valid_labels))\n",
    "    print(\"Test accuracy: %.1f%%\" % accuracy(test_prediction.eval(), test_labels))"
   ]
  },
  {
   "cell_type": "markdown",
   "metadata": {},
   "source": [
    "### Obeservation\n",
    "With 5 batches to train, test accuracy without dropout (regularization) 47.8% (See Problem 2 of this assignment)\n",
    "The reason is overfitting. This is an extreme case of overfitting.\n",
    "With dropout we get test accuracy of 77.1%. Adding dropout significantly increased the accuracy.\n",
    "\n",
    "### Using Dropout\n",
    "Regularization using dropout may not shine out for model which was trained on many batches. But if the model is deep enough (many hidden layers) and also wider (many activation units), dropout is a really nice option for regularization."
   ]
  },
  {
   "cell_type": "markdown",
   "metadata": {},
   "source": [
    "## Problem 4\n",
    "Try to get the best performance you can using a multi-layer model! The best reported test accuracy using a deep network is 97.1%.\n",
    "\n",
    "One avenue you can explore is to add multiple layers.\n",
    "\n",
    "Another one is to use learning rate decay:\n",
    "<br><code>\n",
    "    global_step = tf.Variable(0)  # count the number of steps taken.\n",
    "    learning_rate = tf.train.exponential_decay(0.5, global_step, ...)\n",
    "    optimizer = tf.train.GradientDescentOptimizer(learning_rate).minimize(loss, global_step=global_step)\n",
    "</code></br>"
   ]
  },
  {
   "cell_type": "markdown",
   "metadata": {
    "collapsed": true
   },
   "source": [
    "## I have divided Problem 4 into 2 notebooks: \n",
    "## 1 - DNN-2-Hidden-Layers\n",
    "## 2 - DNN-3, 4-Hidden-Layers\n",
    "## I got max accuracy of 96.1 % (but didn't record it by mistake) with 4 Hidden Layered network without tuning the hyper-parameters. I have max recorded accuracy of 95.8% with  3 Hidden Layered network. Would've gotten more if it wasn't for the lack of time"
   ]
  }
 ],
 "metadata": {
  "anaconda-cloud": {},
  "kernelspec": {
   "display_name": "Python [Root]",
   "language": "python",
   "name": "Python [Root]"
  },
  "language_info": {
   "codemirror_mode": {
    "name": "ipython",
    "version": 2
   },
   "file_extension": ".py",
   "mimetype": "text/x-python",
   "name": "python",
   "nbconvert_exporter": "python",
   "pygments_lexer": "ipython2",
   "version": "2.7.12"
  }
 },
 "nbformat": 4,
 "nbformat_minor": 0
}
